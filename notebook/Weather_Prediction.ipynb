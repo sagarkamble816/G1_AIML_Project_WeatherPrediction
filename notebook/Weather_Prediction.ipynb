{
  "nbformat": 4,
  "nbformat_minor": 0,
  "metadata": {
    "colab": {
      "provenance": []
    },
    "kernelspec": {
      "name": "python3",
      "display_name": "Python 3"
    },
    "language_info": {
      "name": "python"
    }
  },
  "cells": [
    {
      "cell_type": "markdown",
      "source": [
        "**Title: Rain Prediction Model**\n",
        "\n",
        "**Description**: This model forecast rainfall using variety of input variables such as temperature, humidity, wind speed, cloud cover and atmospheric pressure.\n",
        "\n",
        "**Steps involved in Model:**\n",
        "\n",
        "**Step 1:** Importing the required libraries and dataset\n",
        "\n",
        "**Step 2:** Data cleaning - checking for missing values of any of the input of output parameters\n",
        "\n",
        "**Step 3:** Selecting the feauters using different methodologies - check for impacting and non-impacting feature, droping the least impactful\n",
        "\n",
        "**Step 4:** Training the model\n",
        "\n",
        "**Step 5:** Testing the model\n",
        "\n",
        "**Step 6:** Finding accuracy and confusion matrix of different models"
      ],
      "metadata": {
        "id": "L955oUSMEHQn"
      }
    },
    {
      "cell_type": "markdown",
      "source": [
        "\n",
        "\n",
        "---\n",
        "\n"
      ],
      "metadata": {
        "id": "3UZ5oM35Jy5J"
      }
    },
    {
      "cell_type": "markdown",
      "source": [
        "**Importing Required Libraries**"
      ],
      "metadata": {
        "id": "ZBz9gki_hj1-"
      }
    },
    {
      "cell_type": "code",
      "source": [
        "import pandas as pd\n",
        "import numpy as np\n",
        "import matplotlib.pyplot as plt\n",
        "from sklearn import preprocessing\n",
        "import seaborn as sb\n",
        "from sklearn.ensemble import ExtraTreesClassifier\n",
        "from sklearn.ensemble import RandomForestClassifier\n",
        "from sklearn.preprocessing import StandardScaler\n",
        "from sklearn.decomposition import PCA\n",
        "from sklearn.metrics import accuracy_score\n",
        "from sklearn.metrics import confusion_matrix\n",
        "from sklearn.svm import SVC"
      ],
      "metadata": {
        "id": "xickDeIEhro2"
      },
      "execution_count": null,
      "outputs": []
    },
    {
      "cell_type": "markdown",
      "source": [
        "**Importing Dataset**"
      ],
      "metadata": {
        "id": "0iIjHNSLzBrI"
      }
    },
    {
      "cell_type": "code",
      "source": [
        "url = \"https://raw.githubusercontent.com/shravyapendyala/CCE_Assignment_1/refs/heads/main/weather_forecast_data.csv\" # dataset link\n",
        "dataset=pd.read_csv(url)\n",
        "#data=pd.read_csv(url)\n",
        "dataset.head(10)\n"
      ],
      "metadata": {
        "id": "y1CmaCT3h0yW"
      },
      "execution_count": null,
      "outputs": []
    },
    {
      "cell_type": "markdown",
      "source": [
        "**Data Cleaning**"
      ],
      "metadata": {
        "id": "-V3RewQQOTsX"
      }
    },
    {
      "cell_type": "code",
      "source": [
        "# Check for Missing Values of Parameters in dataset\n",
        "print(\"\\nMissing Values in Each Column:\")\n",
        "print(dataset.isnull().sum())\n",
        "\n",
        "# Label Encoding on Rain Column\n",
        "label_encoder=preprocessing.LabelEncoder()\n",
        "dataset['Rain']=label_encoder.fit_transform(dataset['Rain']) # Converting Rain Column to integer value\n",
        "dataset.head(5)"
      ],
      "metadata": {
        "id": "wzmNt5eBGCAW",
        "collapsed": true
      },
      "execution_count": null,
      "outputs": []
    },
    {
      "cell_type": "markdown",
      "source": [
        "**Feature Selection using Correlation matrix**"
      ],
      "metadata": {
        "id": "UGdwhs8Oq3o-"
      }
    },
    {
      "cell_type": "code",
      "source": [
        "# Correlation Matrix\n",
        "correl_mat=dataset.corr()\n",
        "\n",
        "# Plot heat map\n",
        "sb.heatmap(correl_mat,annot=True)"
      ],
      "metadata": {
        "id": "DXru--kQiaAf"
      },
      "execution_count": null,
      "outputs": []
    },
    {
      "cell_type": "markdown",
      "source": [
        "**Feature Selection using Extra Tree Classifier**"
      ],
      "metadata": {
        "id": "hRx65CX8q973"
      }
    },
    {
      "cell_type": "code",
      "source": [
        "x=dataset.iloc[:, 0:5]\n",
        "y=dataset.iloc[:, -1]\n",
        "\n",
        "model=ExtraTreesClassifier()\n",
        "model.fit(x,y)\n",
        "imp=pd.Series(model.feature_importances_)\n",
        "feature_importance = model.feature_importances_\n",
        "plt.bar(x.columns, feature_importance)\n",
        "plt.title('Feature Importance')"
      ],
      "metadata": {
        "id": "O7p5KRGkvDdH"
      },
      "execution_count": null,
      "outputs": []
    },
    {
      "cell_type": "markdown",
      "source": [
        "**Feature Selection using Random Forest**"
      ],
      "metadata": {
        "id": "fzuONTghNt5A"
      }
    },
    {
      "cell_type": "code",
      "source": [
        "x=dataset.iloc[:, 0:5]\n",
        "y=dataset.iloc[:, -1]\n",
        "\n",
        "rf_model = RandomForestClassifier()\n",
        "rf_model.fit(x,y)\n",
        "important_features = rf_model.feature_importances_\n",
        "\n",
        "plt.figure(figsize=(6, 6))\n",
        "plt.pie(important_features, labels=x.columns, autopct='%1.1f%%', startangle=90)\n",
        "plt.axis('equal')\n",
        "plt.show()"
      ],
      "metadata": {
        "id": "rdlnnKjhNyKZ"
      },
      "execution_count": null,
      "outputs": []
    },
    {
      "cell_type": "markdown",
      "source": [
        "**Dimentionality reduction by removing Wind_speed column**"
      ],
      "metadata": {
        "id": "_WloqkeEx-lG"
      }
    },
    {
      "cell_type": "code",
      "source": [
        "dataset.columns\n",
        "new_dataset=dataset.drop(columns=['Wind_Speed'])"
      ],
      "metadata": {
        "id": "dYrvzGWjx9rW"
      },
      "execution_count": null,
      "outputs": []
    },
    {
      "cell_type": "markdown",
      "source": [
        "**Model Training & Testing**"
      ],
      "metadata": {
        "id": "Z5b9k5C56pzG"
      }
    },
    {
      "cell_type": "markdown",
      "source": [
        "**Splitting data into Training and Testing sets**"
      ],
      "metadata": {
        "id": "XAiHU6fe1kIH"
      }
    },
    {
      "cell_type": "code",
      "source": [
        "from sklearn.model_selection import train_test_split\n",
        "\n",
        "# Defining new dataset after dropping one feature\n",
        "X=new_dataset.iloc[:, 0:4]\n",
        "Y=new_dataset.iloc[:, -1]\n",
        "\n",
        "# Splitting data into testing and training, testing 30 % & training 70 %\n",
        "x_train,x_test,y_train,y_test=train_test_split(X,Y,test_size=0.3,random_state=0)\n",
        "\n",
        "y_test=label_encoder.inverse_transform(y_test)"
      ],
      "metadata": {
        "id": "LjHpHPY71hLu"
      },
      "execution_count": null,
      "outputs": []
    },
    {
      "cell_type": "markdown",
      "source": [
        "**Training & Testing the model using Random Forest Classifier**"
      ],
      "metadata": {
        "id": "g1blP5Ou9dF3"
      }
    },
    {
      "cell_type": "code",
      "source": [
        "from sklearn.ensemble import RandomForestClassifier\n",
        "# Initialize the RF classifier (Logistic Regression)\n",
        "classifier1=RandomForestClassifier(n_estimators=100, random_state=0)\n",
        "\n",
        "# Train the model on the training data\n",
        "classifier1.fit(x_train,y_train)\n",
        "\n",
        "# Making prediction on the test set\n",
        "y_pred1=classifier1.predict(x_test)\n",
        "\n",
        "# Inversing the label encoding done to convert rain column to interger values\n",
        "y_pred1=label_encoder.inverse_transform(y_pred1)\n",
        "#y_test=label_encoder.inverse_transform(y_test)\n",
        "\n",
        "# Reshape the predictions and the actual labels (if needed, depending on how you want to compare them)\n",
        "y_pred1=y_pred1.reshape(-1,1)\n",
        "y_test=y_test.reshape(-1,1)\n",
        "y_dataframe1=np.concatenate((y_pred1,y_test),axis=1)\n",
        "\n",
        "\n",
        "# Accuracy of the model\n",
        "accuracy = accuracy_score(y_pred1,y_test)\n",
        "print(f\"Accuracy of the RF model: {accuracy:.4f}\")\n",
        "\n",
        "# Generate the confusion matrix\n",
        "cm = confusion_matrix(y_test, y_pred1)\n",
        "plt.figure(figsize=(6, 4))\n",
        "sns.heatmap(cm, annot=True, fmt=\"d\", cmap=\"Blues\", xticklabels=[\"No Rain\", \"Rain\"], yticklabels=[\"No Rain\", \"Rain\"])\n",
        "plt.xlabel(\"Predicted Label\")\n",
        "plt.ylabel(\"True Label\")\n",
        "plt.title(\"Confusion Matrix for Random Forest Classifier Model\")\n",
        "plt.show()"
      ],
      "metadata": {
        "id": "KsMg1FuQ9gOw"
      },
      "execution_count": null,
      "outputs": []
    },
    {
      "cell_type": "markdown",
      "source": [
        "**Training & Testing the model using Logistic Regression**"
      ],
      "metadata": {
        "id": "10AjwHkhEJMB"
      }
    },
    {
      "cell_type": "code",
      "source": [
        "from sklearn.linear_model import LogisticRegression\n",
        "import seaborn as sns\n",
        "# Initialize the LR classifier (Logistic Regression)\n",
        "classifier2=LogisticRegression( random_state=0)\n",
        "\n",
        "# Train the model on the training data\n",
        "classifier2.fit(x_train,y_train)\n",
        "\n",
        "# Making prediction on the test set\n",
        "y_pred2=classifier2.predict(x_test)\n",
        "\n",
        "# Inversing the label encoding done to convert rain column to interger values\n",
        "y_pred2=label_encoder.inverse_transform(y_pred2)\n",
        "#y_test=label_encoder.inverse_transform(y_test)\n",
        "\n",
        "# Reshape the predictions and the actual labels (if needed, depending on how you want to compare them)\n",
        "y_pred2=y_pred2.reshape(-1,1)\n",
        "y_test=y_test.reshape(-1,1)\n",
        "y_dataframe2=np.concatenate((y_pred2,y_test),axis=1)\n",
        "\n",
        "# Accuracy of the model\n",
        "accuracy = accuracy_score(y_pred2,y_test)\n",
        "print(f\"Accuracy of the LR model: {accuracy:.4f}\")\n",
        "\n",
        "# Generate the confusion matrix\n",
        "cm = confusion_matrix(y_test, y_pred2)\n",
        "plt.figure(figsize=(6, 4))\n",
        "sns.heatmap(cm, annot=True, fmt=\"d\", cmap=\"Blues\", xticklabels=[\"No Rain\", \"Rain\"], yticklabels=[\"No Rain\", \"Rain\"])\n",
        "plt.xlabel(\"Predicted Label\")\n",
        "plt.ylabel(\"True Label\")\n",
        "plt.title(\"Confusion Matrix for Logistic Regression Model\")\n",
        "plt.show()"
      ],
      "metadata": {
        "id": "LdJ-Lu3qEIa7"
      },
      "execution_count": null,
      "outputs": []
    },
    {
      "cell_type": "markdown",
      "source": [
        "**Training & Testing the Model using SVM**"
      ],
      "metadata": {
        "id": "K4egvmZq_HzG"
      }
    },
    {
      "cell_type": "code",
      "source": [
        "# Initialize the SVM classifier (Support Vector Classifier)\n",
        "classifier3 = SVC(random_state=0)\n",
        "\n",
        "# Train the model on the training data\n",
        "classifier3.fit(x_train, y_train)\n",
        "\n",
        "# You can now make predictions on the test set\n",
        "y_pred3 = classifier3.predict(x_test)\n",
        "\n",
        "# Inversing the label encoding done to convert rain column to interger values\n",
        "y_pred3=label_encoder.inverse_transform(y_pred3)\n",
        "#y_test=label_encoder.inverse_transform(y_test)\n",
        "\n",
        "# Reshape the predictions and the actual labels (if needed, depending on how you want to compare them)\n",
        "y_pred3=y_pred3.reshape(-1,1)\n",
        "y_test=y_test.reshape(-1,1)\n",
        "\n",
        "# Accuracy of the model\n",
        "accuracy = accuracy_score(y_test, y_pred3)\n",
        "print(f\"Accuracy of the SVM model: {accuracy:.4f}\")\n",
        "\n",
        "# Generate the confusion matrix\n",
        "cm = confusion_matrix(y_test, y_pred3)\n",
        "plt.figure(figsize=(6, 4))\n",
        "sns.heatmap(cm, annot=True, fmt=\"d\", cmap=\"Blues\", xticklabels=[\"No Rain\", \"Rain\"], yticklabels=[\"No Rain\", \"Rain\"])\n",
        "plt.xlabel(\"Predicted Label\")\n",
        "plt.ylabel(\"True Label\")\n",
        "plt.title(\"Confusion Matrix for SVM Model\")\n",
        "plt.show()"
      ],
      "metadata": {
        "id": "Z9ikjWjR5OJm"
      },
      "execution_count": null,
      "outputs": []
    },
    {
      "cell_type": "markdown",
      "source": [
        "**Training & Testing the Model using XGBoost**"
      ],
      "metadata": {
        "id": "GZiNx_Yy_ZYc"
      }
    },
    {
      "cell_type": "code",
      "source": [
        "import xgboost as xgb\n",
        "\n",
        "# Initialize the XGBoost classifier\n",
        "classifier4 = xgb.XGBClassifier(random_state=0)\n",
        "\n",
        "# Train the model on the training data\n",
        "classifier4.fit(x_train, y_train)\n",
        "\n",
        "# You can now make predictions on the test set\n",
        "y_pred4 = classifier4.predict(x_test)\n",
        "\n",
        "# # Inversing the label encoding done to convert rain column to interger values\n",
        "y_pred4 = label_encoder.inverse_transform(y_pred4)\n",
        "#y_test=label_encoder.inverse_transform(y_test)\n",
        "\n",
        "# Reshape the predictions and the actual labels (if needed, depending on how you want to compare them)\n",
        "y_pred4 = y_pred4.reshape(-1, 1)\n",
        "y_test = y_test.reshape(-1, 1)\n",
        "\n",
        "# Calculate accuracy of the model\n",
        "accuracy = accuracy_score(y_test, y_pred4)\n",
        "print(f\"Accuracy of the XGBoost model: {accuracy:.4f}\")\n",
        "\n",
        "# Generate the confusion matrix\n",
        "cm = confusion_matrix(y_test, y_pred4)\n",
        "\n",
        "# Plot the confusion matrix using a heatmap\n",
        "plt.figure(figsize=(6, 4))\n",
        "sns.heatmap(cm, annot=True, fmt=\"d\", cmap=\"Blues\", xticklabels=[\"No Rain\", \"Rain\"], yticklabels=[\"No Rain\", \"Rain\"])\n",
        "plt.xlabel(\"Predicted Label\")\n",
        "plt.ylabel(\"True Label\")\n",
        "plt.title(\"Confusion Matrix for XGBoost Model\")\n",
        "plt.show()\n"
      ],
      "metadata": {
        "id": "gtQ0ixXp8bei"
      },
      "execution_count": null,
      "outputs": []
    },
    {
      "cell_type": "markdown",
      "source": [
        "\n",
        "\n",
        "------------------------\n",
        "\n",
        "\n",
        "\n",
        "\n",
        "\n"
      ],
      "metadata": {
        "id": "ukFZKbB9K_np"
      }
    },
    {
      "cell_type": "markdown",
      "source": [
        "**Complete Code**"
      ],
      "metadata": {
        "id": "fEhs3tbAd-79"
      }
    },
    {
      "cell_type": "code",
      "source": [
        "# Dataset Location\n",
        "url = \"https://raw.githubusercontent.com/shravyapendyala/CCE_Assignment_1/refs/heads/main/weather_forecast_data.csv\"\n",
        "\n",
        "# Reading Dataset\n",
        "dataset=pd.read_csv(url)\n",
        "\n",
        "# Dataset Overview\n",
        "print(\"\\n Data Overview\\n\")\n",
        "print(dataset.head(5))\n",
        "\n",
        "# Check for Missing Values of Parameters in dataset\n",
        "print(\"\\nMissing Values in Each Column:\\n\")\n",
        "print(dataset.isnull().sum())\n",
        "\n",
        "# Label Encoding on Rain Column\n",
        "label_encoder=preprocessing.LabelEncoder()\n",
        "dataset['Rain']=label_encoder.fit_transform(dataset['Rain']) # Converting Rain Column to integer value\n",
        "\n",
        "print(\"\\nConverted dataset \\n\")\n",
        "print(dataset.head(5))\n",
        "\n",
        "from sklearn.model_selection import train_test_split\n",
        "\n",
        "dataset.columns\n",
        "new_dataset=dataset.drop(columns=['Wind_Speed'])\n",
        "\n",
        "print(\"\\n Improved dataset \\n\" )\n",
        "print(new_dataset.head(5))\n",
        "# Defining new dataset after dropping one feature\n",
        "X=new_dataset.iloc[:, 0:4]\n",
        "Y=new_dataset.iloc[:, -1]\n",
        "\n",
        "# Splitting data into testing and training, testing 30 % & training 70 %\n",
        "x_train,x_test,y_train,y_test=train_test_split(X,Y,test_size=0.3,random_state=0)\n",
        "\n",
        "from sklearn.ensemble import RandomForestClassifier\n",
        "# Initialize the RF classifier (Logistic Regression)\n",
        "classifier=RandomForestClassifier(n_estimators=100, random_state=0)\n",
        "\n",
        "# Train the model on the training data\n",
        "classifier.fit(x_train,y_train)\n",
        "\n",
        "# Making prediction on the test set\n",
        "y_pred=classifier.predict(x_test)\n",
        "\n",
        "# Inversing the label encoding done to convert rain column to interger values\n",
        "y_pred=label_encoder.inverse_transform(y_pred)\n",
        "y_test=label_encoder.inverse_transform(y_test)\n",
        "\n",
        "# Reshape the predictions and the actual labels (if needed, depending on how you want to compare them)\n",
        "y_pred=y_pred1.reshape(-1,1)\n",
        "y_test=y_test.reshape(-1,1)\n",
        "y_dataframe1=np.concatenate((y_pred,y_test),axis=1)\n",
        "\n",
        "\n",
        "# Accuracy of the model\n",
        "accuracy = accuracy_score(y_pred,y_test)\n",
        "print(f\"\\n Accuracy of the RF model: {accuracy:.4f}\\n\")\n",
        "\n",
        "# Generate the confusion matrix\n",
        "cm = confusion_matrix(y_test, y_pred)\n",
        "plt.figure(figsize=(6, 4))\n",
        "sns.heatmap(cm, annot=True, fmt=\"d\", cmap=\"Blues\", xticklabels=[\"No Rain\", \"Rain\"], yticklabels=[\"No Rain\", \"Rain\"])\n",
        "plt.xlabel(\"Predicted Label\")\n",
        "plt.ylabel(\"True Label\")\n",
        "plt.title(\"Confusion Matrix for Random Forest Classifier Model\")\n",
        "plt.show()"
      ],
      "metadata": {
        "id": "sUXGtKjlYVA3"
      },
      "execution_count": null,
      "outputs": []
    }
  ]
}